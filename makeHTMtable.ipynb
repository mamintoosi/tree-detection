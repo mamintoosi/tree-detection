{
 "cells": [
  {
   "cell_type": "markdown",
   "metadata": {},
   "source": [
    "### Create HTML Table from images\n",
    "M.Amintoosi "
   ]
  },
  {
   "cell_type": "code",
   "execution_count": 23,
   "metadata": {},
   "outputs": [],
   "source": [
    "import os\n",
    "import sys\n",
    "\n",
    "# Root directory of the project\n",
    "ROOT_DIR = os.path.abspath(\"./\")\n",
    "\n",
    "# Import Mask RCNN\n",
    "sys.path.append(ROOT_DIR)  # To find local version of the library\n",
    "\n",
    "# Directory to save logs and trained model\n",
    "IMAGE_DIR = \"testImages\"\n",
    "\n",
    "matches = [\"testImages\",\"tree20190221T2228\", \"tree20190223T1028\"]\n",
    "\n",
    "file_names = next(os.walk(IMAGE_DIR))[2]\n",
    "\n",
    "strTable = ''\n",
    "# strTable = '<html>\\n'\n",
    "strTable = strTable+'## Our Team won second place in Tree detection challenge at \\n'\n",
    "strTable = strTable+'## <a href = \"http://icee2019.yazd.ac.ir/Home/NewsContent/1071\"> 27th Iranian Conference on Electrical Engineering (ICEE 2019) </a> \\n'\n",
    "strTable = strTable+'</br>\\n'\n",
    "strTable = strTable+'برخی از نتایج شناسایی درخت توسط تیم گروه علوم کامپیوتر دانشگاه حکیم سبزواری \\n'\n",
    "strTable = strTable+'</br>\\n'\n",
    "strTable = strTable+'<a href = \"http://icee2019.yazd.ac.ir/Home/NewsContent/1068\"> مقام دوم مسابقه شناسایی درخت در ۲۷مین کنفرانس مهندسی برق ایران </a> \\n'\n",
    "strTable = strTable+ \"<center>\"\n",
    "strTable = strTable+'</br><table  align=\"center\" border=\"1\">\\n'\n",
    "strRW = \"<tr>\"\n",
    "for res in matches: \n",
    "    strRW = strRW+\"<td>\"+res+ \"</td>\"\n",
    "strRW = strRW+\"</tr>\\n\"\n",
    "strTable = strTable+strRW\n",
    "for aks in file_names:\n",
    "    strRW = \"<tr>\"\n",
    "    i = 1\n",
    "    for res in matches:\n",
    "        if i==1:\n",
    "            strRW = strRW+'<td  align=\"right\" valign=\"top\"><img src=\"' +res+ \"/\"+aks+'\" width=\"240\"></td>'\n",
    "        else:\n",
    "            strRW = strRW+'<td><img src=\"' +res+ \"/\"+aks+'\" width=\"260\"></td>'\n",
    "        i = i+1\n",
    "    strRW = strRW+\"</tr>\\n\"\n",
    "    strTable = strTable+strRW\n",
    "\n",
    "       \n",
    "strTable = strTable+\"</table>\"\n",
    "strTable = strTable+ \"</center>\"\n",
    "# strTable = strTable+\"</html>\"\n",
    " \n",
    "hs = open(\"README.md\", 'w', encoding=\"utf-8\")\n",
    "hs.write(strTable)\n",
    "hs.close() \n",
    "\n",
    "hs = open(\"results.html\", 'w', encoding=\"utf-8\")\n",
    "hs.write(strTable)\n",
    "hs.close() \n",
    "\n"
   ]
  },
  {
   "cell_type": "code",
   "execution_count": 22,
   "metadata": {},
   "outputs": [
    {
     "name": "stdout",
     "output_type": "stream",
     "text": [
      "## Our Team won second place in Tree detection challenge at \n",
      "## <a href = \"http://icee2019.yazd.ac.ir/Home/NewsContent/1071\"> 27th Iranian Conference on Electrical Engineering (ICEE 2019) </a> \n",
      "</br>\n",
      "### برخی از نتایج شناسایی درخت توسط تیم گروه علوم کامپیوتر دانشگاه حکیم سبزواری \n",
      "### <a href = \"http://icee2019.yazd.ac.ir/Home/NewsContent/1068\"> مقام دوم مسابقه شناسایی درخت در ۲۷مین کنفرانس مهندسی برق ایران </a> \n",
      "<center></br><table  align=\"center\" border=\"1\">\n",
      "<tr><td>testImages</td><td>tree20190221T2228</td><td>tree20190223T1028</td></tr>\n",
      "<tr><td  align=\"right\" valign=\"top\"><img src=\"testImages/1_1 (26).jpg\" width=\"240\"></td><td><img src=\"tree20190221T2228/1_1 (26).jpg\" width=\"260\"></td><td><img src=\"tree20190223T1028/1_1 (26).jpg\" width=\"260\"></td></tr>\n",
      "<tr><td  align=\"right\" valign=\"top\"><img src=\"testImages/1_1 (27).jpg\" width=\"240\"></td><td><img src=\"tree20190221T2228/1_1 (27).jpg\" width=\"260\"></td><td><img src=\"tree20190223T1028/1_1 (27).jpg\" width=\"260\"></td></tr>\n",
      "<tr><td  align=\"right\" valign=\"top\"><img src=\"testImages/1_10 (26).jpg\" width=\"240\"></td><td><img src=\"tree20190221T2228/1_10 (26).jpg\" width=\"260\"></td><td><img src=\"tree20190223T1028/1_10 (26).jpg\" width=\"260\"></td></tr>\n",
      "<tr><td  align=\"right\" valign=\"top\"><img src=\"testImages/1_10 (27).jpg\" width=\"240\"></td><td><img src=\"tree20190221T2228/1_10 (27).jpg\" width=\"260\"></td><td><img src=\"tree20190223T1028/1_10 (27).jpg\" width=\"260\"></td></tr>\n",
      "<tr><td  align=\"right\" valign=\"top\"><img src=\"testImages/1_2 (26).jpg\" width=\"240\"></td><td><img src=\"tree20190221T2228/1_2 (26).jpg\" width=\"260\"></td><td><img src=\"tree20190223T1028/1_2 (26).jpg\" width=\"260\"></td></tr>\n",
      "<tr><td  align=\"right\" valign=\"top\"><img src=\"testImages/1_2 (28).jpg\" width=\"240\"></td><td><img src=\"tree20190221T2228/1_2 (28).jpg\" width=\"260\"></td><td><img src=\"tree20190223T1028/1_2 (28).jpg\" width=\"260\"></td></tr>\n",
      "<tr><td  align=\"right\" valign=\"top\"><img src=\"testImages/1_3 (27).jpg\" width=\"240\"></td><td><img src=\"tree20190221T2228/1_3 (27).jpg\" width=\"260\"></td><td><img src=\"tree20190223T1028/1_3 (27).jpg\" width=\"260\"></td></tr>\n",
      "<tr><td  align=\"right\" valign=\"top\"><img src=\"testImages/1_4 (26).jpg\" width=\"240\"></td><td><img src=\"tree20190221T2228/1_4 (26).jpg\" width=\"260\"></td><td><img src=\"tree20190223T1028/1_4 (26).jpg\" width=\"260\"></td></tr>\n",
      "<tr><td  align=\"right\" valign=\"top\"><img src=\"testImages/1_4 (27).jpg\" width=\"240\"></td><td><img src=\"tree20190221T2228/1_4 (27).jpg\" width=\"260\"></td><td><img src=\"tree20190223T1028/1_4 (27).jpg\" width=\"260\"></td></tr>\n",
      "<tr><td  align=\"right\" valign=\"top\"><img src=\"testImages/1_4 (28).jpg\" width=\"240\"></td><td><img src=\"tree20190221T2228/1_4 (28).jpg\" width=\"260\"></td><td><img src=\"tree20190223T1028/1_4 (28).jpg\" width=\"260\"></td></tr>\n",
      "<tr><td  align=\"right\" valign=\"top\"><img src=\"testImages/1_6 (27).JPG\" width=\"240\"></td><td><img src=\"tree20190221T2228/1_6 (27).JPG\" width=\"260\"></td><td><img src=\"tree20190223T1028/1_6 (27).JPG\" width=\"260\"></td></tr>\n",
      "<tr><td  align=\"right\" valign=\"top\"><img src=\"testImages/1_6 (28).jpg\" width=\"240\"></td><td><img src=\"tree20190221T2228/1_6 (28).jpg\" width=\"260\"></td><td><img src=\"tree20190223T1028/1_6 (28).jpg\" width=\"260\"></td></tr>\n",
      "<tr><td  align=\"right\" valign=\"top\"><img src=\"testImages/1_7 (25).JPG\" width=\"240\"></td><td><img src=\"tree20190221T2228/1_7 (25).JPG\" width=\"260\"></td><td><img src=\"tree20190223T1028/1_7 (25).JPG\" width=\"260\"></td></tr>\n",
      "<tr><td  align=\"right\" valign=\"top\"><img src=\"testImages/1_7 (26).jpg\" width=\"240\"></td><td><img src=\"tree20190221T2228/1_7 (26).jpg\" width=\"260\"></td><td><img src=\"tree20190223T1028/1_7 (26).jpg\" width=\"260\"></td></tr>\n",
      "<tr><td  align=\"right\" valign=\"top\"><img src=\"testImages/1_8 (27).jpg\" width=\"240\"></td><td><img src=\"tree20190221T2228/1_8 (27).jpg\" width=\"260\"></td><td><img src=\"tree20190223T1028/1_8 (27).jpg\" width=\"260\"></td></tr>\n",
      "<tr><td  align=\"right\" valign=\"top\"><img src=\"testImages/1_9 (27).jpg\" width=\"240\"></td><td><img src=\"tree20190221T2228/1_9 (27).jpg\" width=\"260\"></td><td><img src=\"tree20190223T1028/1_9 (27).jpg\" width=\"260\"></td></tr>\n",
      "<tr><td  align=\"right\" valign=\"top\"><img src=\"testImages/2_1 (11).jpg\" width=\"240\"></td><td><img src=\"tree20190221T2228/2_1 (11).jpg\" width=\"260\"></td><td><img src=\"tree20190223T1028/2_1 (11).jpg\" width=\"260\"></td></tr>\n",
      "<tr><td  align=\"right\" valign=\"top\"><img src=\"testImages/2_1 (12).jpg\" width=\"240\"></td><td><img src=\"tree20190221T2228/2_1 (12).jpg\" width=\"260\"></td><td><img src=\"tree20190223T1028/2_1 (12).jpg\" width=\"260\"></td></tr>\n",
      "<tr><td  align=\"right\" valign=\"top\"><img src=\"testImages/2_1 (13).jpg\" width=\"240\"></td><td><img src=\"tree20190221T2228/2_1 (13).jpg\" width=\"260\"></td><td><img src=\"tree20190223T1028/2_1 (13).jpg\" width=\"260\"></td></tr>\n",
      "<tr><td  align=\"right\" valign=\"top\"><img src=\"testImages/2_1 (14).jpg\" width=\"240\"></td><td><img src=\"tree20190221T2228/2_1 (14).jpg\" width=\"260\"></td><td><img src=\"tree20190223T1028/2_1 (14).jpg\" width=\"260\"></td></tr>\n",
      "<tr><td  align=\"right\" valign=\"top\"><img src=\"testImages/2_1 (15).jpg\" width=\"240\"></td><td><img src=\"tree20190221T2228/2_1 (15).jpg\" width=\"260\"></td><td><img src=\"tree20190223T1028/2_1 (15).jpg\" width=\"260\"></td></tr>\n",
      "<tr><td  align=\"right\" valign=\"top\"><img src=\"testImages/2_1 (16).jpg\" width=\"240\"></td><td><img src=\"tree20190221T2228/2_1 (16).jpg\" width=\"260\"></td><td><img src=\"tree20190223T1028/2_1 (16).jpg\" width=\"260\"></td></tr>\n",
      "<tr><td  align=\"right\" valign=\"top\"><img src=\"testImages/2_1 (17).jpg\" width=\"240\"></td><td><img src=\"tree20190221T2228/2_1 (17).jpg\" width=\"260\"></td><td><img src=\"tree20190223T1028/2_1 (17).jpg\" width=\"260\"></td></tr>\n",
      "<tr><td  align=\"right\" valign=\"top\"><img src=\"testImages/2_1 (18).jpg\" width=\"240\"></td><td><img src=\"tree20190221T2228/2_1 (18).jpg\" width=\"260\"></td><td><img src=\"tree20190223T1028/2_1 (18).jpg\" width=\"260\"></td></tr>\n",
      "<tr><td  align=\"right\" valign=\"top\"><img src=\"testImages/2_3 (10).jpg\" width=\"240\"></td><td><img src=\"tree20190221T2228/2_3 (10).jpg\" width=\"260\"></td><td><img src=\"tree20190223T1028/2_3 (10).jpg\" width=\"260\"></td></tr>\n",
      "<tr><td  align=\"right\" valign=\"top\"><img src=\"testImages/2_3 (11).jpg\" width=\"240\"></td><td><img src=\"tree20190221T2228/2_3 (11).jpg\" width=\"260\"></td><td><img src=\"tree20190223T1028/2_3 (11).jpg\" width=\"260\"></td></tr>\n",
      "<tr><td  align=\"right\" valign=\"top\"><img src=\"testImages/2_3 (15).jpg\" width=\"240\"></td><td><img src=\"tree20190221T2228/2_3 (15).jpg\" width=\"260\"></td><td><img src=\"tree20190223T1028/2_3 (15).jpg\" width=\"260\"></td></tr>\n",
      "<tr><td  align=\"right\" valign=\"top\"><img src=\"testImages/2_3 (16).jpg\" width=\"240\"></td><td><img src=\"tree20190221T2228/2_3 (16).jpg\" width=\"260\"></td><td><img src=\"tree20190223T1028/2_3 (16).jpg\" width=\"260\"></td></tr>\n",
      "<tr><td  align=\"right\" valign=\"top\"><img src=\"testImages/2_3 (17).jpg\" width=\"240\"></td><td><img src=\"tree20190221T2228/2_3 (17).jpg\" width=\"260\"></td><td><img src=\"tree20190223T1028/2_3 (17).jpg\" width=\"260\"></td></tr>\n",
      "<tr><td  align=\"right\" valign=\"top\"><img src=\"testImages/2_3 (18).jpg\" width=\"240\"></td><td><img src=\"tree20190221T2228/2_3 (18).jpg\" width=\"260\"></td><td><img src=\"tree20190223T1028/2_3 (18).jpg\" width=\"260\"></td></tr>\n",
      "<tr><td  align=\"right\" valign=\"top\"><img src=\"testImages/2_3 (6).jpg\" width=\"240\"></td><td><img src=\"tree20190221T2228/2_3 (6).jpg\" width=\"260\"></td><td><img src=\"tree20190223T1028/2_3 (6).jpg\" width=\"260\"></td></tr>\n",
      "<tr><td  align=\"right\" valign=\"top\"><img src=\"testImages/2_3 (7).jpg\" width=\"240\"></td><td><img src=\"tree20190221T2228/2_3 (7).jpg\" width=\"260\"></td><td><img src=\"tree20190223T1028/2_3 (7).jpg\" width=\"260\"></td></tr>\n",
      "<tr><td  align=\"right\" valign=\"top\"><img src=\"testImages/2_3 (9).jpg\" width=\"240\"></td><td><img src=\"tree20190221T2228/2_3 (9).jpg\" width=\"260\"></td><td><img src=\"tree20190223T1028/2_3 (9).jpg\" width=\"260\"></td></tr>\n",
      "</table></center>\n"
     ]
    }
   ],
   "source": [
    "print(strTable)"
   ]
  },
  {
   "cell_type": "code",
   "execution_count": null,
   "metadata": {},
   "outputs": [],
   "source": []
  },
  {
   "cell_type": "code",
   "execution_count": null,
   "metadata": {},
   "outputs": [],
   "source": []
  }
 ],
 "metadata": {
  "kernelspec": {
   "display_name": "Python 3",
   "language": "python",
   "name": "python3"
  },
  "language_info": {
   "codemirror_mode": {
    "name": "ipython",
    "version": 3
   },
   "file_extension": ".py",
   "mimetype": "text/x-python",
   "name": "python",
   "nbconvert_exporter": "python",
   "pygments_lexer": "ipython3",
   "version": "3.6.7"
  }
 },
 "nbformat": 4,
 "nbformat_minor": 2
}
