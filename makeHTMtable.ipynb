{
 "cells": [
  {
   "cell_type": "markdown",
   "metadata": {},
   "source": [
    "### Create HTML Table from images\n",
    "M.Amintoosi "
   ]
  },
  {
   "cell_type": "code",
   "execution_count": 23,
   "metadata": {},
   "outputs": [],
   "source": [
    "import os\n",
    "import sys\n",
    "\n",
    "# Root directory of the project\n",
    "ROOT_DIR = os.path.abspath(\"./\")\n",
    "\n",
    "# Import Mask RCNN\n",
    "sys.path.append(ROOT_DIR)  # To find local version of the library\n",
    "\n",
    "# Directory to save logs and trained model\n",
    "IMAGE_DIR = \"testImages\"\n",
    "\n",
    "matches = [\"testImages\",\"tree20190221T2228\", \"tree20190223T1028\"]\n",
    "\n",
    "file_names = next(os.walk(IMAGE_DIR))[2]\n",
    "\n",
    "strTable = ''\n",
    "# strTable = '<html>\\n'\n",
    "strTable = strTable+'## Our Team won second place in Tree detection challenge at \\n'\n",
    "strTable = strTable+'## <a href = \"http://icee2019.yazd.ac.ir/Home/NewsContent/1071\"> 27th Iranian Conference on Electrical Engineering (ICEE 2019) </a> \\n'\n",
    "strTable = strTable+'</br>\\n'\n",
    "strTable = strTable+'برخی از نتایج شناسایی درخت توسط تیم گروه علوم کامپیوتر دانشگاه حکیم سبزواری \\n'\n",
    "strTable = strTable+'</br>\\n'\n",
    "strTable = strTable+'<a href = \"http://icee2019.yazd.ac.ir/Home/NewsContent/1068\"> مقام دوم مسابقه شناسایی درخت در ۲۷مین کنفرانس مهندسی برق ایران </a> \\n'\n",
    "strTable = strTable+ \"<center>\"\n",
    "strTable = strTable+'</br><table  align=\"center\" border=\"1\">\\n'\n",
    "strRW = \"<tr>\"\n",
    "for res in matches: \n",
    "    strRW = strRW+\"<td>\"+res+ \"</td>\"\n",
    "strRW = strRW+\"</tr>\\n\"\n",
    "strTable = strTable+strRW\n",
    "for aks in file_names:\n",
    "    strRW = \"<tr>\"\n",
    "    i = 1\n",
    "    for res in matches:\n",
    "        if i==1:\n",
    "            strRW = strRW+'<td  align=\"right\" valign=\"top\"><img src=\"' +res+ \"/\"+aks+'\" width=\"240\"></td>'\n",
    "        else:\n",
    "            strRW = strRW+'<td><img src=\"' +res+ \"/\"+aks+'\" width=\"260\"></td>'\n",
    "        i = i+1\n",
    "    strRW = strRW+\"</tr>\\n\"\n",
    "    strTable = strTable+strRW\n",
    "\n",
    "       \n",
    "strTable = strTable+\"</table>\"\n",
    "strTable = strTable+ \"</center>\"\n",
    "# strTable = strTable+\"</html>\"\n",
    " \n",
    "hs = open(\"README.md\", 'w', encoding=\"utf-8\")\n",
    "hs.write(strTable)\n",
    "hs.close() \n",
    "\n",
    "hs = open(\"results.html\", 'w', encoding=\"utf-8\")\n",
    "hs.write(strTable)\n",
    "hs.close() \n",
    "\n"
   ]
  },
  {
   "cell_type": "code",
   "execution_count": null,
   "metadata": {},
   "outputs": [],
   "source": [
    "print(strTable)"
   ]
  },
  {
   "cell_type": "code",
   "execution_count": null,
   "metadata": {},
   "outputs": [],
   "source": []
  },
  {
   "cell_type": "code",
   "execution_count": null,
   "metadata": {},
   "outputs": [],
   "source": []
  }
 ],
 "metadata": {
  "kernelspec": {
   "display_name": "Python 3",
   "language": "python",
   "name": "python3"
  },
  "language_info": {
   "codemirror_mode": {
    "name": "ipython",
    "version": 3
   },
   "file_extension": ".py",
   "mimetype": "text/x-python",
   "name": "python",
   "nbconvert_exporter": "python",
   "pygments_lexer": "ipython3",
   "version": "3.6.7"
  }
 },
 "nbformat": 4,
 "nbformat_minor": 2
}
